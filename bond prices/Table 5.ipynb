{
 "cells": [
  {
   "cell_type": "code",
   "execution_count": 1,
   "metadata": {},
   "outputs": [],
   "source": [
    "import numpy as np\n",
    "import pandas as pd\n",
    "from sympy import diff, lambdify, symbols, log, sqrt, exp\n",
    "\n",
    "writer = pd.ExcelWriter('./Table 5 (0.5 year).xlsx')\n",
    "\n",
    "beta = 0.11\n",
    "alpha = 0.07\n",
    "kappa = 0.38\n",
    "mu = 0.07\n",
    "omega = 0.81\n",
    "rho = 0.10\n",
    "T = 1/2\n",
    "r0 = 0.06\n",
    "V0 = 0.005\n",
    "# symbolic variables\n",
    "r, v, t, v0 = symbols('r v t v0')\n",
    "A = (1 - exp(-beta * t)) / beta\n",
    "D = (alpha - v / (2 * beta**2)) * (A - t) - v * A**2 / (4 * beta)\n",
    "price_vasicek = exp(-A * r + D)\n",
    "delta0 = (v * r - v0) / 2 * A**2 * price_vasicek\n",
    "\n",
    "def price(R, V, T):\n",
    "  A = (1 - np.exp(-beta * T)) / beta\n",
    "  D = (alpha - V / (2 * beta**2)) * (A - T) - V * A**2 / (4 * beta)\n",
    "  return np.exp(-A * R + D)\n",
    "\n",
    "def L(f): # infinitesimal generator\n",
    "  ft = diff(f, t)\n",
    "  fr = diff(f, r)\n",
    "  fr2 = diff(fr, r)\n",
    "  fv = diff(f, v)\n",
    "  fv2 = diff(fv, v)\n",
    "  fvr = diff(fv, r)\n",
    "  tmp1 = -ft + beta * (alpha - r) * fr\n",
    "  tmp2 = v**2 * (r * fr2 + omega**2 * fv2) / 2\n",
    "  tmp3 = rho * v**2 * sqrt(r) * omega * fvr\n",
    "  return tmp1 + tmp2 + tmp3 - r * f"
   ]
  },
  {
   "cell_type": "code",
   "execution_count": 2,
   "metadata": {},
   "outputs": [],
   "source": [
    "delta = [delta0] # symbolic equations of delta terms\n",
    "delta_func = []\n",
    "for _ in range(1, 5):\n",
    "  delta.append(L(delta[-1]))\n",
    "for i in range(0, 5):\n",
    "  delta_func.append(lambdify([r, v, t, v0], delta[i]))"
   ]
  },
  {
   "cell_type": "code",
   "execution_count": 3,
   "metadata": {},
   "outputs": [
    {
     "name": "stdout",
     "output_type": "stream",
     "text": [
      "Wall time: 3.41 s\n"
     ]
    }
   ],
   "source": [
    "%%time\n",
    "R = np.arange(0.04, 0.09, 0.01)\n",
    "Approx_4_r = []\n",
    "for r in R:\n",
    "  p0_approx = price(r, V0, T) + T * delta_func[0](r, V0, T, V0*r)\n",
    "  p1_approx = p0_approx + T**2 / 2 * delta_func[1](r, V0, T, V0*r)\n",
    "  p2_approx = p1_approx + T**3 / 6 * delta_func[2](r, V0, T, V0*r)\n",
    "  p3_approx = p2_approx + T**4 / 24 * delta_func[3](r, V0, T, V0*r)\n",
    "  p4_approx = p3_approx + T**5 / 120 * delta_func[4](r, V0, T, V0*r)\n",
    "  Approx_4_r.append(p4_approx)"
   ]
  },
  {
   "cell_type": "code",
   "execution_count": 4,
   "metadata": {},
   "outputs": [
    {
     "name": "stdout",
     "output_type": "stream",
     "text": [
      "      R  MC price  Replicate price  Replicate %diff  JFE price  JFE %diff\n",
      "0  0.04    0.9798           0.9799           0.0102     0.9797    -0.0010\n",
      "1  0.05    0.9750           0.9751           0.0148     0.9750    -0.0011\n",
      "2  0.06    0.9703           0.9704           0.0115     0.9703    -0.0012\n",
      "3  0.07    0.9656           0.9657           0.0106     0.9656    -0.0013\n",
      "4  0.08    0.9609           0.9610           0.0120     0.9609    -0.0014\n"
     ]
    }
   ],
   "source": [
    "Price_MC_r = np.array([0.9798, 0.9750, 0.9703, 0.9656, 0.9609])\n",
    "Price_JFE_r = np.array([0.9797, 0.9750, 0.9703, 0.9656, 0.9609])\n",
    "Diff_JFE_r = np.array([-0.0010, -0.0011, -0.0012, -0.0013, -0.0014])\n",
    "Diff_replicate_r = (Approx_4_r - Price_MC_r) / Price_MC_r * 100\n",
    "\n",
    "df1 = pd.DataFrame({\n",
    "  \"R\": R,\n",
    "  \"MC price\": Price_MC_r,\n",
    "  \"Replicate price\": np.round(Approx_4_r, 4),\n",
    "  \"Replicate %diff\": np.round(Diff_replicate_r, 4),\n",
    "  \"JFE price\": Price_JFE_r,\n",
    "  \"JFE %diff\": Diff_JFE_r\n",
    "  })\n",
    "print(df1)"
   ]
  },
  {
   "cell_type": "code",
   "execution_count": 5,
   "metadata": {},
   "outputs": [
    {
     "name": "stdout",
     "output_type": "stream",
     "text": [
      "Wall time: 3.44 s\n"
     ]
    }
   ],
   "source": [
    "%%time\n",
    "V = np.arange(0.004, 0.0065, 0.0005)\n",
    "Approx_4_v = []\n",
    "for v in V:\n",
    "  p0_approx = price(r0, v, T) + T * delta_func[0](r0, v, T, v*r0)\n",
    "  p1_approx = p0_approx + T**2 / 2 * delta_func[1](r0, v, T, v*r0)\n",
    "  p2_approx = p1_approx + T**3 / 6 * delta_func[2](r0, v, T, v*r0)\n",
    "  p3_approx = p2_approx + T**4 / 24 * delta_func[3](r0, v, T, v*r0)\n",
    "  p4_approx = p3_approx + T**5 / 120 * delta_func[4](r0, v, T, v*r0)\n",
    "  Approx_4_v.append(p4_approx)"
   ]
  },
  {
   "cell_type": "code",
   "execution_count": 6,
   "metadata": {},
   "outputs": [
    {
     "name": "stdout",
     "output_type": "stream",
     "text": [
      "   sigma**2  MC price  Replicate price  Replicate %diff  JFE price  JFE %diff\n",
      "0    0.0040    0.9702           0.9704           0.0198     0.9702    -0.0008\n",
      "1    0.0045    0.9703           0.9704           0.0105     0.9703    -0.0009\n",
      "2    0.0050    0.9703           0.9704           0.0115     0.9703    -0.0009\n",
      "3    0.0055    0.9703           0.9704           0.0125     0.9703    -0.0010\n",
      "4    0.0060    0.9703           0.9704           0.0135     0.9703    -0.0010\n"
     ]
    }
   ],
   "source": [
    "Price_MC_v = np.array([0.9702, 0.9703, 0.9703, 0.9703, 0.9703])\n",
    "Price_JFE_v = np.array([0.9702, 0.9703, 0.9703, 0.9703, 0.9703])\n",
    "Diff_JFE_v = np.array([-0.0008, -0.0009, -0.0009, -0.0010, -0.0010])\n",
    "Diff_replicate_v = (Approx_4_v - Price_MC_v) / Price_MC_v * 100\n",
    "\n",
    "df2 = pd.DataFrame({\n",
    "  \"sigma**2\": V,\n",
    "  \"MC price\": Price_MC_v,\n",
    "  \"Replicate price\": np.round(Approx_4_v, 4),\n",
    "  \"Replicate %diff\": np.round(Diff_replicate_v, 4),\n",
    "  \"JFE price\": Price_JFE_v,\n",
    "  \"JFE %diff\": Diff_JFE_v\n",
    "})\n",
    "print(df2)"
   ]
  },
  {
   "cell_type": "code",
   "execution_count": 7,
   "metadata": {},
   "outputs": [],
   "source": [
    "df1.to_excel(writer, sheet_name=\"sigma_2=0.50%\")\n",
    "df2.to_excel(writer, sheet_name=\"r=6%\")\n",
    "writer.save()\n",
    "writer.close()"
   ]
  }
 ],
 "metadata": {
  "kernelspec": {
   "display_name": "base",
   "language": "python",
   "name": "python3"
  },
  "language_info": {
   "codemirror_mode": {
    "name": "ipython",
    "version": 3
   },
   "file_extension": ".py",
   "mimetype": "text/x-python",
   "name": "python",
   "nbconvert_exporter": "python",
   "pygments_lexer": "ipython3",
   "version": "3.7.0"
  },
  "orig_nbformat": 4
 },
 "nbformat": 4,
 "nbformat_minor": 2
}
