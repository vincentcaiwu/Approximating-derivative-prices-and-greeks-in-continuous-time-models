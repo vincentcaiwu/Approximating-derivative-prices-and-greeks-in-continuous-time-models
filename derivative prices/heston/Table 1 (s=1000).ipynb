{
  "cells": [
    {
      "cell_type": "code",
      "source": [
        "import numpy as np\n",
        "import pandas as pd\n",
        "from sympy import diff, lambdify, symbols, log, sqrt\n",
        "from sympy.stats import Normal, density\n",
        "from scipy.stats import norm\n",
        "\n",
        "kappa = 0.1465\n",
        "alpha = 0.5172\n",
        "omega = 0.5786\n",
        "rho = -0.0243\n",
        "s0 = 1000\n",
        "r = 0\n",
        "T = 1 / 12\n",
        "K = 1000\n",
        "xi = 0.5\n",
        "# symbolic variables\n",
        "s, v, t, v0 = symbols('s v t v0')\n",
        "N = Normal('x', 0, 1)\n",
        "d_p = (log(s / K) + (r + v0 / 2) * t) / sqrt(v0 * t)\n",
        "delta0 = 0.5 * (v - v0) * s * density(N)(d_p) / sqrt(v0 * t)\n",
        "\n",
        "def bs(S, K, T, r, sigma):\n",
        "  N = norm.cdf\n",
        "  d_p = (np.log(S / K) + (r + sigma**2 / 2) * T) / (sigma * np.sqrt(T))\n",
        "  d_m = d_p - sigma * np.sqrt(T)\n",
        "  return S * N(d_p) - K * np.exp(-r * T) * N(d_m)\n",
        "\n",
        "def L(f): # infinitesimal generator\n",
        "  ft = diff(f, t)\n",
        "  fs = diff(f, s)\n",
        "  fs2 = diff(fs, s)\n",
        "  fv = diff(f, v)\n",
        "  fv2 = diff(fv, v)\n",
        "  fvs = diff(fv, s)\n",
        "  tmp1 = -ft + r * s * fs + kappa * (alpha - v) * fv\n",
        "  tmp2 = (v * s**2 * fs2 + omega**2 * v**(2 * xi) * fv2) / 2\n",
        "  tmp3 = rho * omega * v**(xi + 0.5) * s * fvs\n",
        "  return tmp1 + tmp2 + tmp3 - r * f\n",
        "\n",
        "delta = [delta0]\n",
        "delta_func = []\n",
        "for _ in range(1, 5):\n",
        "  delta.append(L(delta[-1]))\n",
        "for i in range(0, 5):\n",
        "  delta_func.append(lambdify([s, v, t, v0], delta[i]))\n",
        "\n",
        "V = np.arange(0.1, 1.2, 0.1)\n",
        "Approx_4 = []\n",
        "for v in V:\n",
        "  p0_approx = bs(s0, K, T, r, np.sqrt(v)) + T * delta_func[0](s0, v, T, v)\n",
        "  p1_approx = p0_approx + T**2 / 2 * delta_func[1](s0, v, T, v)\n",
        "  p2_approx = p1_approx + T**3 / 6 * delta_func[2](s0, v, T, v)\n",
        "  p3_approx = p2_approx + T**4 / 24 * delta_func[3](s0, v, T, v)\n",
        "  p4_approx = p3_approx + T**5 / 120 * delta_func[4](s0, v, T, v)\n",
        "  Approx_4.append(p4_approx)\n",
        "\n",
        "FFT = np.array([36.4488, 51.4125, 62.8997, 72.5792, 81.1007, 88.7981, 95.8702, 102.4465, 108.6171, 114.4477, 119.9878])\n",
        "JFE_results = np.array([36.4854, 51.4255, 62.9068, 72.5838, 81.1040, 88.8006, 95.8721, 102.4481, 108.6184, 114.4488, 119.9888])\n",
        "JFE_results_diff = np.array([0.1004, 0.0253, 0.0113, 0.0063, 0.0041, 0.0028, 0.0021, 0.0016, 0.0013, 0.0010, 0.0008])\n",
        "\n",
        "df = pd.DataFrame({\"V\": V, \"FFT\": FFT, \"Replicate price\": np.round(Approx_4, 4), \"JFE price\": JFE_results, \"JFE %diff\": JFE_results_diff})\n",
        "print(df)\n",
        "df.to_csv(\"Table 1 Panel B.csv\")"
      ],
      "metadata": {
        "colab": {
          "base_uri": "https://localhost:8080/"
        },
        "id": "hR0liHVLAh1r",
        "outputId": "7eefbac6-ab48-4442-d2f0-89e0d772856d"
      },
      "execution_count": 1,
      "outputs": [
        {
          "output_type": "stream",
          "name": "stdout",
          "text": [
            "      V       FFT  Replicate price  JFE price  JFE %diff\n",
            "0   0.1   36.4488          36.4854    36.4854     0.1004\n",
            "1   0.2   51.4125          51.4255    51.4255     0.0253\n",
            "2   0.3   62.8997          62.9068    62.9068     0.0113\n",
            "3   0.4   72.5792          72.5838    72.5838     0.0063\n",
            "4   0.5   81.1007          81.1040    81.1040     0.0041\n",
            "5   0.6   88.7981          88.8006    88.8006     0.0028\n",
            "6   0.7   95.8702          95.8721    95.8721     0.0021\n",
            "7   0.8  102.4465         102.4481   102.4481     0.0016\n",
            "8   0.9  108.6171         108.6184   108.6184     0.0013\n",
            "9   1.0  114.4477         114.4488   114.4488     0.0010\n",
            "10  1.1  119.9878         119.9888   119.9888     0.0008\n"
          ]
        }
      ]
    }
  ],
  "metadata": {
    "colab": {
      "provenance": []
    },
    "kernelspec": {
      "display_name": "Python 3",
      "name": "python3"
    },
    "language_info": {
      "name": "python"
    }
  },
  "nbformat": 4,
  "nbformat_minor": 0
}
