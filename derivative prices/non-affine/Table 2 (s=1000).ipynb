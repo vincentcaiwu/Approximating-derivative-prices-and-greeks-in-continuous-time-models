{
 "cells": [
  {
   "cell_type": "code",
   "execution_count": 1,
   "metadata": {
    "colab": {
     "base_uri": "https://localhost:8080/"
    },
    "id": "k7OaYMYw1_J1",
    "outputId": "b00d5df0-8fd9-4230-a0fa-196087553d67"
   },
   "outputs": [
    {
     "name": "stdout",
     "output_type": "stream",
     "text": [
      "      V  Monte carlo  Replicate price  Replicate %diff  JFE price  JFE %diff\n",
      "0   0.1      36.0006          36.6167           1.7114    36.4457     1.2364\n",
      "1   0.2      50.7456          51.5021           1.4907    51.3208     1.1334\n",
      "2   0.3      62.0950          62.9573           1.3886    62.7745     1.0943\n",
      "3   0.4      71.6717          72.6188           1.3215    72.4363     1.0668\n",
      "4   0.5      80.1100          81.1286           1.2715    80.9467     1.0445\n",
      "5   0.6      87.7368          88.8177           1.2320    88.6366     1.0256\n",
      "6   0.7      94.7477          95.8836           1.1988    95.7032     1.0085\n",
      "7   0.8     101.2699         102.4550           1.1702   102.2754     0.9929\n",
      "8   0.9     107.3927         108.6217           1.1444   108.4427     0.9777\n",
      "9   1.0     113.1820         114.4490           1.1194   114.2706     0.9618\n",
      "10  1.1     118.6858         119.9864           1.0958   119.8085     0.9460\n"
     ]
    }
   ],
   "source": [
    "import numpy as np\n",
    "import pandas as pd\n",
    "from sympy import diff, lambdify, symbols, log, sqrt\n",
    "from sympy.stats import Normal, density\n",
    "from scipy.stats import norm\n",
    "\n",
    "kappa = 0.1465\n",
    "alpha = 0.5172\n",
    "omega = 0.5786\n",
    "rho = -0.0243\n",
    "s0 = 1000\n",
    "r = 0\n",
    "T = 1 / 12\n",
    "K = 1000\n",
    "xi = 0.6\n",
    "# symbolic variables\n",
    "s, v, t, v0 = symbols('s v t v0')\n",
    "N = Normal('x', 0, 1)\n",
    "d_p = (log(s / K) + (r + v0 / 2) * t) / sqrt(v0 * t)\n",
    "delta0 = 0.5 * (v - v0) * s * density(N)(d_p) / sqrt(v0 * t)\n",
    "\n",
    "def bs(S, K, T, r, sigma):\n",
    "  N = norm.cdf\n",
    "  d_p = (np.log(S / K) + (r + sigma**2 / 2) * T) / (sigma * np.sqrt(T))\n",
    "  d_m = d_p - sigma * np.sqrt(T)\n",
    "  return S * N(d_p) - K * np.exp(-r * T) * N(d_m)\n",
    "\n",
    "def L(f): # infinitesimal generator\n",
    "  ft = diff(f, t)\n",
    "  fs = diff(f, s)\n",
    "  fs2 = diff(fs, s)\n",
    "  fv = diff(f, v)\n",
    "  fv2 = diff(fv, v)\n",
    "  fvs = diff(fv, s)\n",
    "  tmp1 = -ft + r * s * fs + kappa * (alpha - v) * fv\n",
    "  tmp2 = (v * s**2 * fs2 + omega**2 * v**(2 * xi) * fv2) / 2\n",
    "  tmp3 = rho * omega * v**(xi + 0.5) * s * fvs\n",
    "  return tmp1 + tmp2 + tmp3 - r * f\n",
    "\n",
    "delta = [delta0]\n",
    "delta_func = []\n",
    "for _ in range(1, 5):\n",
    "  delta.append(L(delta[-1]))\n",
    "for i in range(0, 5):\n",
    "  delta_func.append(lambdify([s, v, t, v0], delta[i]))\n",
    "\n",
    "V = np.arange(0.1, 1.2, 0.1)\n",
    "Approx_4 = []\n",
    "for v in V:\n",
    "  p0_approx = bs(s0, K, T, r, np.sqrt(v)) + T * delta_func[0](s0, v, T, v)\n",
    "  p1_approx = p0_approx + T**2 / 2 * delta_func[1](s0, v, T, v)\n",
    "  p2_approx = p1_approx + T**3 / 6 * delta_func[2](s0, v, T, v)\n",
    "  p3_approx = p2_approx + T**4 / 24 * delta_func[3](s0, v, T, v)\n",
    "  p4_approx = p3_approx + T**5 / 120 * delta_func[4](s0, v, T, v)\n",
    "  Approx_4.append(p4_approx)\n",
    "\n",
    "Monte_carlo = np.array([36.0006, 50.7456, 62.0950, 71.6717, 80.1100, 87.7368, 94.7477, 101.2699, 107.3927, 113.1820, 118.6858])\n",
    "JFE_results = np.array([36.4457, 51.3208, 62.7745, 72.4363, 80.9467, 88.6366, 95.7032, 102.2754, 108.4427, 114.2706, 119.8085])\n",
    "JFE_results_diff = np.array([1.2364, 1.1334, 1.0943, 1.0668, 1.0445, 1.0256, 1.0085, 0.9929, 0.9777, 0.9618, 0.9460])\n",
    "Approx_diff = (Approx_4 - Monte_carlo) / Monte_carlo * 100\n",
    "\n",
    "df = pd.DataFrame({\"V\": V, \"Monte carlo\": Monte_carlo, \"Replicate price\": np.round(Approx_4, 4), \"Replicate %diff\": np.round(Approx_diff, 4), \"JFE price\": JFE_results, \"JFE %diff\": JFE_results_diff})\n",
    "print(df)\n",
    "df.to_csv(\"Table 2 Panel B.csv\")"
   ]
  }
 ],
 "metadata": {
  "colab": {
   "provenance": []
  },
  "kernelspec": {
   "display_name": "Python 3",
   "language": "python",
   "name": "python3"
  },
  "language_info": {
   "codemirror_mode": {
    "name": "ipython",
    "version": 3
   },
   "file_extension": ".py",
   "mimetype": "text/x-python",
   "name": "python",
   "nbconvert_exporter": "python",
   "pygments_lexer": "ipython3",
   "version": "3.7.0"
  }
 },
 "nbformat": 4,
 "nbformat_minor": 1
}
