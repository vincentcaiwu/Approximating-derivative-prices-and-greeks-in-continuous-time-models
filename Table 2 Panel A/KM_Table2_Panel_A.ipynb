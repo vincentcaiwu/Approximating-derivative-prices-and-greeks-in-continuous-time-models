{
 "cells": [
  {
   "cell_type": "code",
   "execution_count": 4,
   "metadata": {
    "colab": {
     "base_uri": "https://localhost:8080/"
    },
    "id": "1gf4hFbVIEB3",
    "outputId": "9523ef3b-5a3f-46b2-81df-65374434a884"
   },
   "outputs": [
    {
     "name": "stderr",
     "output_type": "stream",
     "text": [
      "E:\\Anaconda\\lib\\site-packages\\numpy\\__init__.py:1: RuntimeWarning: invalid value encountered in double_scalars\n",
      "  \"\"\"\n",
      "E:\\Anaconda\\lib\\site-packages\\numpy\\__init__.py:1: RuntimeWarning: divide by zero encountered in double_scalars\n",
      "  \"\"\"\n"
     ]
    },
    {
     "name": "stdout",
     "output_type": "stream",
     "text": [
      "       S  Monte Carlo  Replicate price  Replicate %diff  JFE price  JFE %diff\n",
      "0    950      57.1354    -1.159020e+08    -2.028551e+08    57.6931     0.9761\n",
      "1    960      61.5947              NaN              NaN    62.2185     1.0128\n",
      "2    970      66.2564    -1.269945e+08    -1.916714e+08    66.9456     1.0402\n",
      "3    980      71.1264     2.743766e+07     3.857582e+07    71.8731     1.0498\n",
      "4    990      76.1974    -5.222487e+07    -6.853902e+07    76.9990     1.0521\n",
      "5   1000      81.4727     2.911861e+07     3.574023e+07    82.3211     1.0413\n",
      "6   1010      86.9598     1.309857e+08     1.506278e+08    87.8366     1.0083\n",
      "7   1020      92.6641     1.850123e+08     1.996590e+08    93.5424     0.9478\n",
      "8   1030      98.5726     5.143612e+07     5.218085e+07    99.4349     0.8748\n",
      "9   1040     104.6802     2.604393e+07     2.487941e+07   105.5104     0.7931\n",
      "10  1050     110.9633     3.022409e+07     2.723782e+07   111.7646     0.7221\n"
     ]
    }
   ],
   "source": [
    "import numpy as np\n",
    "import pandas as pd\n",
    "from sympy import diff, lambdify, symbols, log, sqrt\n",
    "from sympy.stats import Normal, density\n",
    "from scipy.stats import norm\n",
    "\n",
    "kappa = 0.1465\n",
    "alpha = 0.5172\n",
    "omega = 0.5786\n",
    "rho = -0.0243\n",
    "v0 = 0.5172\n",
    "r = 0\n",
    "T = 1 / 12\n",
    "K = 1000\n",
    "xi = 0.5\n",
    "# symbolic variables\n",
    "s, v, t = symbols('s v t')\n",
    "sigma = sqrt(v0)\n",
    "N = Normal('x', 0, 1)\n",
    "d_p = (log(s / K) + (r + sigma**2 / 2) * t) / (sigma * sqrt(t))\n",
    "delta0 = 0.5 * (v - sigma**2) * s * density(N)(d_p) / (sigma * sqrt(t))\n",
    "\n",
    "def bs(S, K, T, r, sigma):\n",
    "  N = norm.cdf\n",
    "  d_p = (np.log(S / K) + (r + sigma**2 / 2) * T) / (sigma * np.sqrt(T))\n",
    "  d_m = d_p - sigma * np.sqrt(T)\n",
    "  return S * N(d_p) - K * np.exp(-r * T) * N(d_m)\n",
    "\n",
    "def L(f): # infinitesimal generator\n",
    "  ft = diff(f, t)\n",
    "  fs = diff(f, s)\n",
    "  fs2 = diff(fs, s)\n",
    "  fv = diff(f, v)\n",
    "  fv2 = diff(fv, v)\n",
    "  fvs = diff(fv, s)\n",
    "  tmp1 = -ft + r * s * fs + kappa * (alpha - v) * fv\n",
    "  tmp2 = (v * s**2 * fs2 + omega**2 * v**(2 * xi) * fv2) / 2\n",
    "  tmp3 = rho * omega * v**(xi + 0.5) * s * fvs\n",
    "  return tmp1 + tmp2 + tmp3 - r * f\n",
    "\n",
    "delta = [delta0]\n",
    "delta_func = []\n",
    "for _ in range(1, 5):\n",
    "  delta.append(L(delta[-1]))\n",
    "for i in range(0, 5):\n",
    "  delta_func.append(lambdify([s, v, t], delta[i]))\n",
    "\n",
    "S = np.arange(950, 1051, 10)\n",
    "Approx_4 = []\n",
    "for s in S:\n",
    "  p0_approx = bs(s, K, T, r, np.sqrt(v0)) + T * delta_func[0](s, v0, T)\n",
    "  p1_approx = p0_approx + T**2 / 2 * delta_func[1](s, v0, T)\n",
    "  p2_approx = p1_approx + T**3 / 6 * delta_func[2](s, v0, T)\n",
    "  p3_approx = p2_approx + T**4 / 24 * delta_func[3](s, v0, T)\n",
    "  p4_approx = p3_approx + T**5 / 120 * delta_func[4](s, v0, T)\n",
    "  Approx_4.append(p4_approx)\n",
    "\n",
    "Monte_carlo = np.array([57.1354, 61.5947, 66.2564, 71.1264, 76.1974, 81.4727, 86.9598, 92.6641, 98.5726, 104.6802, 110.9633])\n",
    "JFE_results = np.array([57.6931, 62.2185, 66.9456, 71.8731, 76.9990, 82.3211, 87.8366, 93.5424, 99.4349, 105.5104, 111.7646])\n",
    "JFE_results_diff = np.array([0.9761, 1.0128, 1.0402, 1.0498, 1.0521, 1.0413, 1.0083, 0.9478, 0.8748, 0.7931, 0.7221])\n",
    "Approx_diff = (Approx_4 - Monte_carlo) / Monte_carlo * 100\n",
    "\n",
    "df = pd.DataFrame({\"S\": S, \"Monte Carlo\": Monte_carlo, \"Replicate price\": np.round(Approx_4, 4), \"Replicate %diff\": np.round(Approx_diff, 4), \"JFE price\": JFE_results, \"JFE %diff\": JFE_results_diff})\n",
    "print(df)\n",
    "df.to_csv(\"Table 2 Panel A.csv\")"
   ]
  },
  {
   "cell_type": "code",
   "execution_count": null,
   "metadata": {},
   "outputs": [],
   "source": []
  }
 ],
 "metadata": {
  "colab": {
   "provenance": []
  },
  "kernelspec": {
   "display_name": "Python 3",
   "language": "python",
   "name": "python3"
  },
  "language_info": {
   "codemirror_mode": {
    "name": "ipython",
    "version": 3
   },
   "file_extension": ".py",
   "mimetype": "text/x-python",
   "name": "python",
   "nbconvert_exporter": "python",
   "pygments_lexer": "ipython3",
   "version": "3.7.0"
  }
 },
 "nbformat": 4,
 "nbformat_minor": 1
}
