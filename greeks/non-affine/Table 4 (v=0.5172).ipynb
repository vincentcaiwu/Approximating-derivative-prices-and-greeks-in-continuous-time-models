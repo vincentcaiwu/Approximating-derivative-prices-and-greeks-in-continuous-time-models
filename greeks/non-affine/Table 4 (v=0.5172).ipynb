{
 "cells": [
  {
   "cell_type": "code",
   "execution_count": 1,
   "metadata": {},
   "outputs": [],
   "source": [
    "import numpy as np\n",
    "import pandas as pd\n",
    "from sympy import diff, lambdify, symbols, log, sqrt\n",
    "from sympy.stats import Normal, density\n",
    "from scipy.stats import norm\n",
    "\n",
    "kappa = 0.1465\n",
    "alpha = 0.5172\n",
    "omega = 0.5786\n",
    "rho = -0.0243\n",
    "v0 = 0.5172\n",
    "r = 0\n",
    "T = 1 / 12\n",
    "K = 1000\n",
    "xi = 0.6\n",
    "# symbolic variables\n",
    "s, v, t = symbols('s v t')\n",
    "sigma = sqrt(v0)\n",
    "N = Normal('x', 0, 1)\n",
    "d_p = (log(s / K) + (r + v0 / 2) * t) / (sigma * sqrt(t))\n",
    "D0 = 0.5 * (v - v0) * s * density(N)(d_p) / (sigma * sqrt(t))\n",
    "delta0 = diff(D0, s)\n",
    "gamma0 = diff(delta0, s)\n",
    "vega0 = diff(D0, v)\n",
    "\n",
    "S = [950+10*i for i in range(11)]\n",
    "\n",
    "def delta(S, K, T, r, sigma):\n",
    "  N = norm.cdf\n",
    "  d_p = (np.log(S / K) + (r + sigma**2 / 2) * T) / (sigma * np.sqrt(T))\n",
    "  return N(d_p)\n",
    "\n",
    "def vega(S, K, T, r, sigma):\n",
    "  N = norm.pdf\n",
    "  d_p = (np.log(S / K) + (r + sigma**2 / 2) * T) / (sigma * np.sqrt(T))\n",
    "  return S * N(d_p) * np.sqrt(T) / (2 * sigma)\n",
    "\n",
    "def L(f): # infinitesimal generator\n",
    "  ft = diff(f, t)\n",
    "  fs = diff(f, s)\n",
    "  fs2 = diff(fs, s)\n",
    "  fv = diff(f, v)\n",
    "  fv2 = diff(fv, v)\n",
    "  fvs = diff(fv, s)\n",
    "  tmp1 = -ft + r * s * fs + kappa * (alpha - v) * fv\n",
    "  tmp2 = (v * s**2 * fs2 + omega**2 * v**(2 * xi) * fv2) / 2\n",
    "  tmp3 = rho * omega * v**(xi + 0.5) * s * fvs\n",
    "  return tmp1 + tmp2 + tmp3 - r * f\n",
    "\n",
    "D = [D0]\n",
    "for _ in range(1, 5):\n",
    "  D.append(L(D[-1]))"
   ]
  },
  {
   "cell_type": "code",
   "execution_count": 2,
   "metadata": {},
   "outputs": [],
   "source": [
    "Delta = [delta0]\n",
    "Delta_func = []\n",
    "for i in range(1, 5):\n",
    "  Delta.append(diff(D[i], s))\n",
    "for i in range(0, 5):\n",
    "  Delta_func.append(lambdify([s, v, t], Delta[i]))\n",
    "\n",
    "Vega = [vega0]\n",
    "Vega_func = []\n",
    "for i in range(1, 5):\n",
    "  Vega.append(diff(D[i], v))\n",
    "for i in range(0, 5):\n",
    "  Vega_func.append(lambdify([s, v, t], Vega[i]))"
   ]
  },
  {
   "cell_type": "code",
   "execution_count": 3,
   "metadata": {},
   "outputs": [
    {
     "name": "stdout",
     "output_type": "stream",
     "text": [
      "[44.28744596171008, 46.29785263392905, 48.29678302410081, 50.279384404884, 52.24107440513339, 54.17756201002294, 56.08486406457631, 57.959317443826016, 59.7975871051441, 61.59667028068839, 63.35389710075023]\n",
      "Wall time: 5.71 s\n"
     ]
    }
   ],
   "source": [
    "%%time\n",
    "Approx_delta = []\n",
    "for s in S:\n",
    "  delta0_approx = delta(s, K, T, r, np.sqrt(v0)) + T * Delta_func[0](s, v0, T)\n",
    "  delta1_approx = delta0_approx + T**2 / 2 * Delta_func[1](s, v0, T)\n",
    "  delta2_approx = delta1_approx + T**3 / 6 * Delta_func[2](s, v0, T)\n",
    "  delta3_approx = delta2_approx + T**4 / 24 * Delta_func[3](s, v0, T)\n",
    "  delta4_approx = delta3_approx + T**5 / 120 * Delta_func[4](s, v0, T)\n",
    "  Approx_delta.append(100*delta4_approx)\n",
    "print(Approx_delta)"
   ]
  },
  {
   "cell_type": "code",
   "execution_count": 4,
   "metadata": {},
   "outputs": [
    {
     "name": "stdout",
     "output_type": "stream",
     "text": [
      "[74.89173042816458, 76.1418254966514, 77.20296874419397, 78.07309332286293, 78.75164447564721, 79.23951102322653, 79.53894282105415, 79.6534565714064, 79.58773236188433, 79.34750324088877, 78.93944003908216]\n",
      "Wall time: 4.87 s\n"
     ]
    }
   ],
   "source": [
    "%%time\n",
    "Approx_vega = []\n",
    "for s in S:\n",
    "  vega0_approx = vega(s, K, T, r, np.sqrt(v0))\n",
    "  vega1_approx = vega0_approx + T**2 / 2 * Vega_func[1](s, v0, T)\n",
    "  vega2_approx = vega1_approx + T**3 / 6 * Vega_func[2](s, v0, T)\n",
    "  vega3_approx = vega2_approx + T**4 / 24 * Vega_func[3](s, v0, T)\n",
    "  vega4_approx = vega3_approx + T**5 / 120 * Vega_func[4](s, v0, T)\n",
    "  Approx_vega.append(vega4_approx)\n",
    "print(Approx_vega)"
   ]
  },
  {
   "cell_type": "code",
   "execution_count": 5,
   "metadata": {},
   "outputs": [
    {
     "name": "stdout",
     "output_type": "stream",
     "text": [
      "       S  MC %delta  Replicate %delta  Replicate delta %diff  JFE %delta  \\\n",
      "0    950    43.5844           44.2874                 1.6131     44.2419   \n",
      "1    960    45.5741           46.2979                 1.5881     46.2644   \n",
      "2    970    47.6381           48.2968                 1.3827     48.2756   \n",
      "3    980    49.8072           50.2794                 0.9480     50.2706   \n",
      "4    990    51.6445           52.2411                 1.1552     52.2445   \n",
      "5   1000    53.8656           54.1776                 0.5791     54.1930   \n",
      "6   1010    55.9119           56.0849                 0.3094     56.1119   \n",
      "7   1020    58.0716           57.9593                -0.1934     58.9976   \n",
      "8   1030    60.0880           59.7976                -0.4833     59.8464   \n",
      "9   1040    62.0285           61.5967                -0.6962     61.6554   \n",
      "10  1050    63.6870           63.3539                -0.5230     63.4218   \n",
      "\n",
      "    JFE delta %diff  MC %vega  Replicate %vega  Replicate vega %diff  \\\n",
      "0            1.5085   74.2766          74.8917                0.8282   \n",
      "1            1.5147   75.5218          76.1418                0.8210   \n",
      "2            1.3383   76.5901          77.2030                0.8002   \n",
      "3            0.9304   77.4442          78.0731                0.8121   \n",
      "4            1.1618   78.1237          78.7516                0.8038   \n",
      "5            0.6265   78.5703          79.2395                0.8517   \n",
      "6            0.3578   78.8212          79.5389                0.9106   \n",
      "7           -0.1276   78.8205          79.6535                1.0568   \n",
      "8           -0.4020   78.6555          79.5877                1.1852   \n",
      "9           -0.6015   78.3327          79.3475                1.2955   \n",
      "10          -0.4163   77.9749          78.9394                1.2370   \n",
      "\n",
      "    JFE %vega  JFE vega %diff  \n",
      "0     74.9072          0.8489  \n",
      "1     76.1723          0.8614  \n",
      "2     77.2457          0.8561  \n",
      "3     78.1252          0.8793  \n",
      "4     78.8099          0.8784  \n",
      "5     79.3008          0.9298  \n",
      "6     79.6002          0.9883  \n",
      "7     79.7115          1.1305  \n",
      "8     79.6396          1.2512  \n",
      "9     79.3905          1.3505  \n",
      "10    78.9711          1.2776  \n"
     ]
    }
   ],
   "source": [
    "Delta_MC = np.array([43.5844, 45.5741, 47.6381, 49.8072, 51.6445, 53.8656, 55.9119, 58.0716, 60.0880, 62.0285, 63.6870])\n",
    "Delta_diff = (Approx_delta - Delta_MC) / Delta_MC * 100\n",
    "Delta_JFE = np.array([44.2419, 46.2644, 48.2756, 50.2706, 52.2445, 54.1930, 56.1119, 58.9976, 59.8464, 61.6554, 63.4218])\n",
    "Delta_JFE_diff = np.array([1.5085, 1.5147, 1.3383, 0.9304, 1.1618, 0.6265, 0.3578, -0.1276, -0.4020, -0.6015, -0.4163])\n",
    "\n",
    "Vega_MC = np.array([74.2766, 75.5218, 76.5901, 77.4442, 78.1237, 78.5703, 78.8212, 78.8205, 78.6555, 78.3327, 77.9749])\n",
    "Vega_diff = (Approx_vega - Vega_MC) / Vega_MC * 100\n",
    "Vega_JFE = np.array([74.9072, 76.1723, 77.2457, 78.1252, 78.8099, 79.3008, 79.6002, 79.7115, 79.6396, 79.3905, 78.9711])\n",
    "Vega_JFE_diff = np.array([0.8489, 0.8614, 0.8561, 0.8793, 0.8784, 0.9298, 0.9883, 1.1305, 1.2512, 1.3505, 1.2776])\n",
    "\n",
    "df = pd.DataFrame({\n",
    "    \"S\": S, \n",
    "    \"MC %delta\": Delta_MC, \n",
    "    \"Replicate %delta\": np.round(Approx_delta, 4), \n",
    "    \"Replicate delta %diff\": np.round(Delta_diff, 4),\n",
    "    \"JFE %delta\": Delta_JFE,\n",
    "    \"JFE delta %diff\": Delta_JFE_diff,\n",
    "    \"MC %vega\": Vega_MC,\n",
    "    \"Replicate %vega\": np.round(Approx_vega, 4),\n",
    "    \"Replicate vega %diff\": np.round(Vega_diff, 4),\n",
    "    \"JFE %vega\": Vega_JFE,\n",
    "    \"JFE vega %diff\": Vega_JFE_diff\n",
    "    })\n",
    "print(df)\n",
    "df.to_csv(\"Panel AB1 (v=0.5172).csv\")"
   ]
  }
 ],
 "metadata": {
  "kernelspec": {
   "display_name": "base",
   "language": "python",
   "name": "python3"
  },
  "language_info": {
   "codemirror_mode": {
    "name": "ipython",
    "version": 3
   },
   "file_extension": ".py",
   "mimetype": "text/x-python",
   "name": "python",
   "nbconvert_exporter": "python",
   "pygments_lexer": "ipython3",
   "version": "3.7.0"
  },
  "orig_nbformat": 4
 },
 "nbformat": 4,
 "nbformat_minor": 2
}
