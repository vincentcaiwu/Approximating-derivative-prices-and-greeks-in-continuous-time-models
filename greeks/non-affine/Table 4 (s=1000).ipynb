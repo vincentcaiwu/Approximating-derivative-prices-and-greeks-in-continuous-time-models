{
 "cells": [
  {
   "cell_type": "code",
   "execution_count": 1,
   "metadata": {},
   "outputs": [],
   "source": [
    "import numpy as np\n",
    "import pandas as pd\n",
    "from sympy import diff, lambdify, symbols, log, sqrt\n",
    "from sympy.stats import Normal, density\n",
    "from scipy.stats import norm\n",
    "\n",
    "kappa = 0.1465\n",
    "alpha = 0.5172\n",
    "omega = 0.5786\n",
    "rho = -0.0243\n",
    "s0 = 1000\n",
    "r = 0\n",
    "T = 1 / 12\n",
    "K = 1000\n",
    "xi = 0.6\n",
    "# symbolic variables\n",
    "s, v, t, v0 = symbols('s v t v0')\n",
    "N = Normal('x', 0, 1)\n",
    "d_p = (log(s / K) + (r + v0 / 2) * t) / sqrt(v0 * t)\n",
    "D0 = 0.5 * (v - v0) * s * density(N)(d_p) / sqrt(v0 * t)\n",
    "delta0 = diff(D0, s)\n",
    "gamma0 = diff(delta0, s)\n",
    "vega0 = diff(D0, v)\n",
    "\n",
    "def delta(S, K, T, r, sigma):\n",
    "  N = norm.cdf\n",
    "  d_p = (np.log(S / K) + (r + sigma**2 / 2) * T) / (sigma * np.sqrt(T))\n",
    "  return N(d_p)\n",
    "\n",
    "def vega(S, K, T, r, sigma):\n",
    "  N = norm.pdf\n",
    "  d_p = (np.log(S / K) + (r + sigma**2 / 2) * T) / (sigma * np.sqrt(T))\n",
    "  return S * N(d_p) * np.sqrt(T) / (2 * sigma)\n",
    "\n",
    "def L(f): # infinitesimal generator\n",
    "  ft = diff(f, t)\n",
    "  fs = diff(f, s)\n",
    "  fs2 = diff(fs, s)\n",
    "  fv = diff(f, v)\n",
    "  fv2 = diff(fv, v)\n",
    "  fvs = diff(fv, s)\n",
    "  tmp1 = -ft + r * s * fs + kappa * (alpha - v) * fv\n",
    "  tmp2 = (v * s**2 * fs2 + omega**2 * v**(2 * xi) * fv2) / 2\n",
    "  tmp3 = rho * omega * v**(xi + 0.5) * s * fvs\n",
    "  return tmp1 + tmp2 + tmp3 - r * f\n",
    "\n",
    "D = [D0]\n",
    "for _ in range(1, 5):\n",
    "  D.append(L(D[-1]))"
   ]
  },
  {
   "cell_type": "code",
   "execution_count": 2,
   "metadata": {},
   "outputs": [],
   "source": [
    "Delta = [delta0]\n",
    "Delta_func = []\n",
    "for i in range(1, 5):\n",
    "  Delta.append(diff(D[i], s))\n",
    "for i in range(0, 5):\n",
    "  Delta_func.append(lambdify([s, v, t, v0], Delta[i]))\n",
    "  \n",
    "Vega = [vega0]\n",
    "Vega_func = []\n",
    "for i in range(1, 5):\n",
    "  Vega.append(diff(D[i], v))\n",
    "for i in range(0, 5):\n",
    "  Vega_func.append(lambdify([s, v, t, v0], Vega[i]))"
   ]
  },
  {
   "cell_type": "code",
   "execution_count": 3,
   "metadata": {},
   "outputs": [
    {
     "name": "stdout",
     "output_type": "stream",
     "text": [
      "[51.9312951252368, 52.65175620082644, 53.2131019468454, 53.689075272389864, 54.10956835080122, 54.49024896272184, 54.84054813562813, 55.16666630142682, 55.47293886868868, 55.76253858110333, 56.03787042689967]\n",
      "Wall time: 7.56 s\n"
     ]
    }
   ],
   "source": [
    "%%time\n",
    "V = np.arange(0.1, 1.2, 0.1)\n",
    "Approx_delta = []\n",
    "for v in V:\n",
    "  delta0_approx = delta(s0, K, T, r, np.sqrt(v)) + T * Delta_func[0](s0, v, T, v)\n",
    "  delta1_approx = delta0_approx + T**2 / 2 * Delta_func[1](s0, v, T, v)\n",
    "  delta2_approx = delta1_approx + T**3 / 6 * Delta_func[2](s0, v, T, v)\n",
    "  delta3_approx = delta2_approx + T**4 / 24 * Delta_func[3](s0, v, T, v)\n",
    "  delta4_approx = delta3_approx + T**5 / 120 * Delta_func[4](s0, v, T, v)\n",
    "  Approx_delta.append(100*delta4_approx)\n",
    "print(Approx_delta)"
   ]
  },
  {
   "cell_type": "code",
   "execution_count": 4,
   "metadata": {},
   "outputs": [
    {
     "name": "stdout",
     "output_type": "stream",
     "text": [
      "[179.72178919212985, 127.47630573428944, 104.1366343343541, 90.16338118024586, 80.60006351321138, 73.52507974626425, 68.01625141792772, 63.56851232992541, 59.878957307965344, 56.75342764216735, 54.06096151299987]\n",
      "Wall time: 6.2 s\n"
     ]
    }
   ],
   "source": [
    "%%time\n",
    "Approx_vega = []\n",
    "for v in V:\n",
    "  vega0_approx = vega(s0, K, T, r, np.sqrt(v))\n",
    "  vega1_approx = vega0_approx + T**2 / 2 * Vega_func[1](s0, v, T, v)\n",
    "  vega2_approx = vega1_approx + T**3 / 6 * Vega_func[2](s0, v, T, v)\n",
    "  vega3_approx = vega2_approx + T**4 / 24 * Vega_func[3](s0, v, T, v)\n",
    "  vega4_approx = vega3_approx + T**5 / 120 * Vega_func[4](s0, v, T, v)\n",
    "  Approx_vega.append(vega4_approx)\n",
    "print(Approx_vega)"
   ]
  },
  {
   "cell_type": "code",
   "execution_count": 5,
   "metadata": {},
   "outputs": [
    {
     "name": "stdout",
     "output_type": "stream",
     "text": [
      "      V  MC %delta  Replicate %delta  Replicate delta %diff  JFE %delta  \\\n",
      "0   0.1    51.9501           51.9313                -0.0362     51.9568   \n",
      "1   0.2    52.5276           52.6518                 0.2364     52.6729   \n",
      "2   0.3    52.9595           53.2131                 0.4789     53.2317   \n",
      "3   0.4    53.3255           53.6891                 0.6818     53.7060   \n",
      "4   0.5    53.8027           54.1096                 0.5704     54.1252   \n",
      "5   0.6    54.0987           54.4902                 0.7238     54.5049   \n",
      "6   0.7    54.4164           54.8405                 0.7794     54.8543   \n",
      "7   0.8    54.7429           55.1667                 0.7741     55.1798   \n",
      "8   0.9    54.9393           55.4729                 0.9713     55.4854   \n",
      "9   1.0    55.2099           55.7625                 1.0010     55.7745   \n",
      "10  1.1    55.4269           56.0379                 1.1023     56.0494   \n",
      "\n",
      "    JFE delta %diff  MC %vega  Replicate %vega  Replicate vega %diff  \\\n",
      "0            0.0131  177.4286         179.7218                1.2925   \n",
      "1            0.2767  126.1482         127.4763                1.0528   \n",
      "2            0.5140  103.1555         104.1366                0.9511   \n",
      "3            0.7135   89.3784          90.1634                0.8783   \n",
      "4            0.5995   79.9090          80.6001                0.8648   \n",
      "5            0.7508   72.9385          73.5251                0.8042   \n",
      "6            0.8047   67.4934          68.0163                0.7747   \n",
      "7            0.7981   63.0958          63.5685                0.7492   \n",
      "8            0.9941   59.4809          59.8790                0.6692   \n",
      "9            1.0227   56.3929          56.7534                0.6393   \n",
      "10           1.1230   53.7493          54.0610                0.5798   \n",
      "\n",
      "    JFE %vega  JFE vega %diff  \n",
      "0    180.7478          1.8707  \n",
      "1    127.7828          1.2958  \n",
      "2    104.2902          1.1000  \n",
      "3     90.2579          0.9841  \n",
      "4     80.6650          0.9460  \n",
      "5     73.5728          0.8696  \n",
      "6     68.0529          0.8290  \n",
      "7     63.5975          0.7952  \n",
      "8     59.9025          0.7089  \n",
      "9     56.7729          0.6739  \n",
      "10    54.0773          0.6103  \n"
     ]
    }
   ],
   "source": [
    "Delta_MC = np.array([51.9501, 52.5276, 52.9595, 53.3255, 53.8027, 54.0987, 54.4164, 54.7429, 54.9393, 55.2099, 55.4269])\n",
    "Delta_diff = (Approx_delta - Delta_MC) / Delta_MC * 100\n",
    "Delta_JFE = np.array([51.9568, 52.6729, 53.2317, 53.7060, 54.1252, 54.5049, 54.8543, 55.1798, 55.4854, 55.7745, 56.0494])\n",
    "Delta_JFE_diff = np.array([0.0131, 0.2767, 0.5140, 0.7135, 0.5995, 0.7508, 0.8047, 0.7981, 0.9941, 1.0227, 1.1230])\n",
    "\n",
    "Vega_MC = np.array([177.4286, 126.1482, 103.1555, 89.3784, 79.9090, 72.9385, 67.4934, 63.0958, 59.4809, 56.3929, 53.7493])\n",
    "Vega_diff = (Approx_vega - Vega_MC) / Vega_MC * 100\n",
    "Vega_JFE = np.array([180.7478, 127.7828, 104.2902, 90.2579, 80.6650, 73.5728, 68.0529, 63.5975, 59.9025, 56.7729, 54.0773])\n",
    "Vega_JFE_diff = np.array([1.8707, 1.2958, 1.1000, 0.9841, 0.9460, 0.8696, 0.8290, 0.7952, 0.7089, 0.6739, 0.6103])\n",
    "\n",
    "df = pd.DataFrame({\n",
    "    \"V\": V, \n",
    "    \"MC %delta\": Delta_MC, \n",
    "    \"Replicate %delta\": np.round(Approx_delta, 4), \n",
    "    \"Replicate delta %diff\": np.round(Delta_diff, 4),\n",
    "    \"JFE %delta\": Delta_JFE,\n",
    "    \"JFE delta %diff\": Delta_JFE_diff,\n",
    "    \"MC %vega\": Vega_MC,\n",
    "    \"Replicate %vega\": np.round(Approx_vega, 4),\n",
    "    \"Replicate vega %diff\": np.round(Vega_diff, 4),\n",
    "    \"JFE %vega\": Vega_JFE,\n",
    "    \"JFE vega %diff\": Vega_JFE_diff\n",
    "    })\n",
    "print(df)\n",
    "df.to_csv(\"Panel AB2 (s=1000).csv\")"
   ]
  }
 ],
 "metadata": {
  "kernelspec": {
   "display_name": "base",
   "language": "python",
   "name": "python3"
  },
  "language_info": {
   "codemirror_mode": {
    "name": "ipython",
    "version": 3
   },
   "file_extension": ".py",
   "mimetype": "text/x-python",
   "name": "python",
   "nbconvert_exporter": "python",
   "pygments_lexer": "ipython3",
   "version": "3.7.0"
  },
  "orig_nbformat": 4
 },
 "nbformat": 4,
 "nbformat_minor": 2
}
