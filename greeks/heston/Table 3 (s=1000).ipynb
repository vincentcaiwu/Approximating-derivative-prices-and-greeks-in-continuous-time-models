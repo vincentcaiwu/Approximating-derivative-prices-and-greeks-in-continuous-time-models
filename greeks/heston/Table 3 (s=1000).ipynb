{
 "cells": [
  {
   "cell_type": "code",
   "execution_count": 1,
   "metadata": {},
   "outputs": [],
   "source": [
    "import numpy as np\n",
    "import pandas as pd\n",
    "from sympy import diff, lambdify, symbols, log, sqrt\n",
    "from sympy.stats import Normal, density\n",
    "from scipy.stats import norm\n",
    "\n",
    "kappa = 0.1465\n",
    "alpha = 0.5172\n",
    "omega = 0.5786\n",
    "rho = -0.0243\n",
    "s0 = 1000\n",
    "r = 0\n",
    "T = 1 / 12\n",
    "K = 1000\n",
    "xi = 0.5\n",
    "# symbolic variables\n",
    "s, v, t, v0 = symbols('s v t v0')\n",
    "N = Normal('x', 0, 1)\n",
    "d_p = (log(s / K) + (r + v0 / 2) * t) / sqrt(v0 * t)\n",
    "D0 = 0.5 * (v - v0) * s * density(N)(d_p) / sqrt(v0 * t)\n",
    "delta0 = diff(D0, s)\n",
    "gamma0 = diff(delta0, s)\n",
    "vega0 = diff(D0, v)\n",
    "\n",
    "def delta(S, K, T, r, sigma):\n",
    "  N = norm.cdf\n",
    "  d_p = (np.log(S / K) + (r + sigma**2 / 2) * T) / (sigma * np.sqrt(T))\n",
    "  return N(d_p)\n",
    "\n",
    "def gamma(S, K, T, r, sigma):\n",
    "  N = norm.pdf\n",
    "  d_p = (np.log(S / K) + (r + sigma**2 / 2) * T) / (sigma * np.sqrt(T))\n",
    "  return N(d_p) / (sigma * np.sqrt(T) * S)\n",
    "\n",
    "def vega(S, K, T, r, sigma):\n",
    "  N = norm.pdf\n",
    "  d_p = (np.log(S / K) + (r + sigma**2 / 2) * T) / (sigma * np.sqrt(T))\n",
    "  return S * N(d_p) * np.sqrt(T) / (2 * sigma)\n",
    "\n",
    "def L(f): # infinitesimal generator\n",
    "  ft = diff(f, t)\n",
    "  fs = diff(f, s)\n",
    "  fs2 = diff(fs, s)\n",
    "  fv = diff(f, v)\n",
    "  fv2 = diff(fv, v)\n",
    "  fvs = diff(fv, s)\n",
    "  tmp1 = -ft + r * s * fs + kappa * (alpha - v) * fv\n",
    "  tmp2 = (v * s**2 * fs2 + omega**2 * v**(2 * xi) * fv2) / 2\n",
    "  tmp3 = rho * omega * v**(xi + 0.5) * s * fvs\n",
    "  return tmp1 + tmp2 + tmp3 - r * f\n",
    "\n",
    "D = [D0]\n",
    "for _ in range(1, 5):\n",
    "  D.append(L(D[-1]))"
   ]
  },
  {
   "cell_type": "code",
   "execution_count": 2,
   "metadata": {},
   "outputs": [],
   "source": [
    "Delta = [delta0]\n",
    "Delta_func = []\n",
    "for i in range(1, 5):\n",
    "  Delta.append(diff(D[i], s))\n",
    "for i in range(0, 5):\n",
    "  Delta_func.append(lambdify([s, v, t, v0], Delta[i]))\n",
    "\n",
    "Gamma = [gamma0]\n",
    "Gamma_func = []\n",
    "for i in range(1, 5):\n",
    "  Gamma.append(diff(Delta[i], s))\n",
    "for i in range(0, 5):\n",
    "  Gamma_func.append(lambdify([s, v, t, v0], Gamma[i]))\n",
    "\n",
    "Vega = [vega0]\n",
    "Vega_func = []\n",
    "for i in range(1, 5):\n",
    "  Vega.append(diff(D[i], v))\n",
    "for i in range(0, 5):\n",
    "  Vega_func.append(lambdify([s, v, t, v0], Vega[i]))"
   ]
  },
  {
   "cell_type": "code",
   "execution_count": 3,
   "metadata": {},
   "outputs": [
    {
     "name": "stdout",
     "output_type": "stream",
     "text": [
      "[51.95337478987898, 52.66214621541805, 53.21934729861749, 53.693164518367844, 54.112330658145154, 54.49211273698567, 54.841764715820865, 55.167396182328275, 55.473290951365406, 55.76259021564746, 56.037678550311874]\n",
      "Wall time: 4.98 s\n"
     ]
    }
   ],
   "source": [
    "%%time\n",
    "V = np.arange(0.1, 1.2, 0.1)\n",
    "Approx_delta = []\n",
    "for v in V:\n",
    "  delta0_approx = delta(s0, K, T, r, np.sqrt(v)) + T * Delta_func[0](s0, v, T, v)\n",
    "  delta1_approx = delta0_approx + T**2 / 2 * Delta_func[1](s0, v, T, v)\n",
    "  delta2_approx = delta1_approx + T**3 / 6 * Delta_func[2](s0, v, T, v)\n",
    "  delta3_approx = delta2_approx + T**4 / 24 * Delta_func[3](s0, v, T, v)\n",
    "  delta4_approx = delta3_approx + T**5 / 120 * Delta_func[4](s0, v, T, v)\n",
    "  Approx_delta.append(100*delta4_approx)\n",
    "print(Approx_delta)"
   ]
  },
  {
   "cell_type": "code",
   "execution_count": 4,
   "metadata": {},
   "outputs": [
    {
     "name": "stdout",
     "output_type": "stream",
     "text": [
      "[0.44336411361271905, 0.3117950361341641, 0.25375138883843307, 0.219253014017635, 0.19574695595913116, 0.1784086823538222, 0.1649371233384017, 0.1540776807162305, 0.1450805047019765, 0.13746624159819, 0.13091226264521527]\n",
      "Wall time: 9.91 s\n"
     ]
    }
   ],
   "source": [
    "%%time\n",
    "Approx_gamma = []\n",
    "for v in V:\n",
    "  gamma0_approx = gamma(s0, K, T, r, np.sqrt(v)) + T * Gamma_func[0](s0, v, T, v)\n",
    "  gamma1_approx = gamma0_approx + T**2 / 2 * Gamma_func[1](s0, v, T, v)\n",
    "  gamma2_approx = gamma1_approx + T**3 / 6 * Gamma_func[2](s0, v, T, v)\n",
    "  gamma3_approx = gamma2_approx + T**4 / 24 * Gamma_func[3](s0, v, T, v)\n",
    "  gamma4_approx = gamma3_approx + T**5 / 120 * Gamma_func[4](s0, v, T, v)\n",
    "  Approx_gamma.append(100*gamma4_approx)\n",
    "print(Approx_gamma)\n"
   ]
  },
  {
   "cell_type": "code",
   "execution_count": 5,
   "metadata": {},
   "outputs": [
    {
     "name": "stdout",
     "output_type": "stream",
     "text": [
      "[181.17852597026194, 127.90098351585404, 104.34754715014405, 90.2924185254633, 80.68839805416238, 73.58997681471622, 68.06630905346111, 63.608527597650564, 59.91183260643862, 56.781029272446396, 54.08454789922963]\n",
      "Wall time: 3.65 s\n"
     ]
    }
   ],
   "source": [
    "%%time\n",
    "Approx_vega = []\n",
    "for v in V:\n",
    "  vega0_approx = vega(s0, K, T, r, np.sqrt(v))\n",
    "  vega1_approx = vega0_approx + T**2 / 2 * Vega_func[1](s0, v, T, v)\n",
    "  vega2_approx = vega1_approx + T**3 / 6 * Vega_func[2](s0, v, T, v)\n",
    "  vega3_approx = vega2_approx + T**4 / 24 * Vega_func[3](s0, v, T, v)\n",
    "  vega4_approx = vega3_approx + T**5 / 120 * Vega_func[4](s0, v, T, v)\n",
    "  Approx_vega.append(vega4_approx)\n",
    "print(Approx_vega)"
   ]
  },
  {
   "cell_type": "code",
   "execution_count": 7,
   "metadata": {},
   "outputs": [
    {
     "name": "stdout",
     "output_type": "stream",
     "text": [
      "      V  FFT %delta  Replicate %delta  Delta %diff  FFT %gamma  \\\n",
      "0   0.1     51.9512           51.9534       0.0042      0.4241   \n",
      "1   0.2     52.6614           52.6621       0.0014      0.2944   \n",
      "2   0.3     53.2189           53.2193       0.0008      0.2542   \n",
      "3   0.4     53.6929           53.6932       0.0005      0.2245   \n",
      "4   0.5     54.1121           54.1123       0.0004      0.2012   \n",
      "5   0.6     54.4920           54.4921       0.0002      0.1831   \n",
      "6   0.7     54.8416           54.8418       0.0003      0.1686   \n",
      "7   0.8     55.1673           55.1674       0.0002      0.1568   \n",
      "8   0.9     55.4732           55.4733       0.0002      0.1468   \n",
      "9   1.0     55.7625           55.7626       0.0002      0.1387   \n",
      "10  1.1     56.0376           56.0377       0.0001      0.1318   \n",
      "\n",
      "    Replicate %gamma  Gamma %diff  FFT %vega  Replicate %vega  Vega %diff  \n",
      "0             0.4434       4.5424   180.6213         181.1785      0.3085  \n",
      "1             0.3118       5.9086   127.8147         127.9010      0.0675  \n",
      "2             0.2538      -0.1765   104.3381         104.3475      0.0091  \n",
      "3             0.2193      -2.3372    90.3166          90.2924     -0.0268  \n",
      "4             0.1957      -2.7103    80.7070          80.6884     -0.0230  \n",
      "5             0.1784      -2.5622    73.6120          73.5900     -0.0299  \n",
      "6             0.1649      -2.1725    68.0870          68.0663     -0.0304  \n",
      "7             0.1541      -1.7362    63.9556          63.6085     -0.5427  \n",
      "8             0.1451      -1.1713    60.0878          59.9118     -0.2929  \n",
      "9             0.1375      -0.8895    56.8783          56.7810     -0.1710  \n",
      "10            0.1309      -0.6735    54.1400          54.0845     -0.1024  \n"
     ]
    }
   ],
   "source": [
    "Delta_FFT = np.array([51.9512, 52.6614, 53.2189, 53.6929, 54.1121, 54.4920, 54.8416, 55.1673, 55.4732, 55.7625, 56.0376])\n",
    "Delta_diff = (Approx_delta - Delta_FFT) / Delta_FFT * 100\n",
    "Gamma_FFT = np.array([0.4241, 0.2944, 0.2542, 0.2245, 0.2012, 0.1831, 0.1686, 0.1568, 0.1468, 0.1387, 0.1318])\n",
    "Gamma_diff = (Approx_gamma - Gamma_FFT) / Gamma_FFT * 100\n",
    "Vega_FFT = np.array([180.6213, 127.8147, 104.3381, 90.3166, 80.7070, 73.6120, 68.0870, 63.9556, 60.0878, 56.8783, 54.1400])\n",
    "Vega_diff = (Approx_vega - Vega_FFT) / Vega_FFT * 100\n",
    "\n",
    "df = pd.DataFrame({\n",
    "    \"V\": V, \n",
    "    \"FFT %delta\": Delta_FFT, \n",
    "    \"Replicate %delta\": np.round(Approx_delta, 4), \n",
    "    \"Delta %diff\": np.round(Delta_diff, 4),\n",
    "    \"FFT %gamma\": Gamma_FFT,\n",
    "    \"Replicate %gamma\": np.round(Approx_gamma, 4), \n",
    "    \"Gamma %diff\": np.round(Gamma_diff, 4),\n",
    "    \"FFT %vega\": Vega_FFT,\n",
    "    \"Replicate %vega\": np.round(Approx_vega, 4),\n",
    "    \"Vega %diff\": np.round(Vega_diff, 4)\n",
    "    })\n",
    "print(df)\n",
    "df.to_csv(\"Panel ABC2 (s=1000).csv\")"
   ]
  }
 ],
 "metadata": {
  "kernelspec": {
   "display_name": "base",
   "language": "python",
   "name": "python3"
  },
  "language_info": {
   "codemirror_mode": {
    "name": "ipython",
    "version": 3
   },
   "file_extension": ".py",
   "mimetype": "text/x-python",
   "name": "python",
   "nbconvert_exporter": "python",
   "pygments_lexer": "ipython3",
   "version": "3.7.0"
  },
  "orig_nbformat": 4
 },
 "nbformat": 4,
 "nbformat_minor": 2
}
