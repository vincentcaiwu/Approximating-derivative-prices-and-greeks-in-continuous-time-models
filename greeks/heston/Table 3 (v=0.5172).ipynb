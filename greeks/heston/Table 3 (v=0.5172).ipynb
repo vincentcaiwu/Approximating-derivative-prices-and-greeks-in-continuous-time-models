{
 "cells": [
  {
   "cell_type": "code",
   "execution_count": 1,
   "metadata": {},
   "outputs": [],
   "source": [
    "import numpy as np\n",
    "import pandas as pd\n",
    "from sympy import diff, lambdify, symbols, log, sqrt\n",
    "from sympy.stats import Normal, density\n",
    "from scipy.stats import norm\n",
    "\n",
    "kappa = 0.1465\n",
    "alpha = 0.5172\n",
    "omega = 0.5786\n",
    "rho = -0.0243\n",
    "v0 = 0.5172\n",
    "r = 0\n",
    "T = 1 / 12\n",
    "K = 1000\n",
    "xi = 0.5\n",
    "# symbolic variables\n",
    "s, v, t = symbols('s v t')\n",
    "sigma = sqrt(v0)\n",
    "N = Normal('x', 0, 1)\n",
    "d_p = (log(s / K) + (r + v0 / 2) * t) / (sigma * sqrt(t))\n",
    "D0 = 0.5 * (v - v0) * s * density(N)(d_p) / (sigma * sqrt(t))\n",
    "delta0 = diff(D0, s)\n",
    "gamma0 = diff(delta0, s)\n",
    "vega0 = diff(D0, v)\n",
    "\n",
    "S = [950+10*i for i in range(11)]\n",
    "\n",
    "def delta(S, K, T, r, sigma):\n",
    "  N = norm.cdf\n",
    "  d_p = (np.log(S / K) + (r + sigma**2 / 2) * T) / (sigma * np.sqrt(T))\n",
    "  return N(d_p)\n",
    "\n",
    "def gamma(S, K, T, r, sigma):\n",
    "  N = norm.pdf\n",
    "  d_p = (np.log(S / K) + (r + sigma**2 / 2) * T) / (sigma * np.sqrt(T))\n",
    "  return N(d_p) / (sigma * np.sqrt(T) * S)\n",
    "\n",
    "def vega(S, K, T, r, sigma):\n",
    "  N = norm.pdf\n",
    "  d_p = (np.log(S / K) + (r + sigma**2 / 2) * T) / (sigma * np.sqrt(T))\n",
    "  return S * N(d_p) * np.sqrt(T) / (2 * sigma)\n",
    "\n",
    "def L(f): # infinitesimal generator\n",
    "  ft = diff(f, t)\n",
    "  fs = diff(f, s)\n",
    "  fs2 = diff(fs, s)\n",
    "  fv = diff(f, v)\n",
    "  fv2 = diff(fv, v)\n",
    "  fvs = diff(fv, s)\n",
    "  tmp1 = -ft + r * s * fs + kappa * (alpha - v) * fv\n",
    "  tmp2 = (v * s**2 * fs2 + omega**2 * v**(2 * xi) * fv2) / 2\n",
    "  tmp3 = rho * omega * v**(xi + 0.5) * s * fvs\n",
    "  return tmp1 + tmp2 + tmp3 - r * f\n",
    "\n",
    "D = [D0]\n",
    "for _ in range(1, 5):\n",
    "  D.append(L(D[-1]))"
   ]
  },
  {
   "cell_type": "code",
   "execution_count": 2,
   "metadata": {},
   "outputs": [],
   "source": [
    "Delta = [delta0]\n",
    "Delta_func = []\n",
    "for i in range(1, 5):\n",
    "  Delta.append(diff(D[i], s))\n",
    "for i in range(0, 5):\n",
    "  Delta_func.append(lambdify([s, v, t], Delta[i]))\n",
    "\n",
    "Gamma = [gamma0]\n",
    "Gamma_func = []\n",
    "for i in range(1, 5):\n",
    "  Gamma.append(diff(Delta[i], s))\n",
    "for i in range(0, 5):\n",
    "  Gamma_func.append(lambdify([s, v, t], Gamma[i]))\n",
    "\n",
    "Vega = [vega0]\n",
    "Vega_func = []\n",
    "for i in range(1, 5):\n",
    "  Vega.append(diff(D[i], v))\n",
    "for i in range(0, 5):\n",
    "  Vega_func.append(lambdify([s, v, t], Vega[i]))"
   ]
  },
  {
   "cell_type": "code",
   "execution_count": 3,
   "metadata": {},
   "outputs": [
    {
     "name": "stdout",
     "output_type": "stream",
     "text": [
      "[44.28194197068317, 46.29395968905791, 48.29452443499121, 50.27876292217998, 52.24207318867641, 54.18014586712322, 56.08898091174347, 57.96489994498629, 59.80455444024395, 61.604930000468926, 63.36334702619561]\n",
      "Wall time: 4.38 s\n"
     ]
    }
   ],
   "source": [
    "%%time\n",
    "Approx_delta = []\n",
    "for s in S:\n",
    "  delta0_approx = delta(s, K, T, r, np.sqrt(v0)) + T * Delta_func[0](s, v0, T)\n",
    "  delta1_approx = delta0_approx + T**2 / 2 * Delta_func[1](s, v0, T)\n",
    "  delta2_approx = delta1_approx + T**3 / 6 * Delta_func[2](s, v0, T)\n",
    "  delta3_approx = delta2_approx + T**4 / 24 * Delta_func[3](s, v0, T)\n",
    "  delta4_approx = delta3_approx + T**5 / 120 * Delta_func[4](s, v0, T)\n",
    "  Approx_delta.append(100*delta4_approx)\n",
    "print(Approx_delta)"
   ]
  },
  {
   "cell_type": "code",
   "execution_count": 4,
   "metadata": {},
   "outputs": [
    {
     "name": "stdout",
     "output_type": "stream",
     "text": [
      "[0.20160569714389376, 0.2007124839166706, 0.19931920065028394, 0.19745176199529366, 0.1951384406755816, 0.19240940705835285, 0.18929628199757056, 0.18583170881341948, 0.18204894924999748, 0.17798150725804376, 0.1736627834998477]\n",
      "Wall time: 9.01 s\n"
     ]
    }
   ],
   "source": [
    "%%time\n",
    "Approx_gamma = []\n",
    "for s in S:\n",
    "  gamma0_approx = gamma(s, K, T, r, np.sqrt(v0)) + T * Gamma_func[0](s, v0, T)\n",
    "  gamma1_approx = gamma0_approx + T**2 / 2 * Gamma_func[1](s, v0, T)\n",
    "  gamma2_approx = gamma1_approx + T**3 / 6 * Gamma_func[2](s, v0, T)\n",
    "  gamma3_approx = gamma2_approx + T**4 / 24 * Gamma_func[3](s, v0, T)\n",
    "  gamma4_approx = gamma3_approx + T**5 / 120 * Gamma_func[4](s, v0, T)\n",
    "  Approx_gamma.append(100*gamma4_approx)\n",
    "print(Approx_gamma)"
   ]
  },
  {
   "cell_type": "code",
   "execution_count": 5,
   "metadata": {},
   "outputs": [
    {
     "name": "stdout",
     "output_type": "stream",
     "text": [
      "[74.96794881327439, 76.22123117968029, 77.28470529259899, 78.15627941528598, 78.83538891870604, 79.32292722222938, 79.62116243550538, 79.73364212769302, 79.6650886388748, 79.42128728789046, 79.00896972842897]\n",
      "Wall time: 3.31 s\n"
     ]
    }
   ],
   "source": [
    "%%time\n",
    "Approx_vega = []\n",
    "for s in S:\n",
    "  vega0_approx = vega(s, K, T, r, np.sqrt(v0))\n",
    "  vega1_approx = vega0_approx + T**2 / 2 * Vega_func[1](s, v0, T)\n",
    "  vega2_approx = vega1_approx + T**3 / 6 * Vega_func[2](s, v0, T)\n",
    "  vega3_approx = vega2_approx + T**4 / 24 * Vega_func[3](s, v0, T)\n",
    "  vega4_approx = vega3_approx + T**5 / 120 * Vega_func[4](s, v0, T)\n",
    "  Approx_vega.append(vega4_approx)\n",
    "print(Approx_vega)"
   ]
  },
  {
   "cell_type": "code",
   "execution_count": 6,
   "metadata": {},
   "outputs": [
    {
     "name": "stdout",
     "output_type": "stream",
     "text": [
      "       S  FFT %delta  Replicate %delta  Delta %diff  FFT %gamma  \\\n",
      "0    950     44.2794           44.2819       0.0057      0.2016   \n",
      "1    960     46.2918           46.2940       0.0047      0.2008   \n",
      "2    970     48.2928           48.2945       0.0036      0.1994   \n",
      "3    980     50.2776           50.2788       0.0023      0.1975   \n",
      "4    990     52.2414           52.2421       0.0013      0.1952   \n",
      "5   1000     54.1800           54.1801       0.0003      0.1925   \n",
      "6   1010     56.0893           56.0890      -0.0006      0.1893   \n",
      "7   1020     57.9657           57.9649      -0.0014      0.1859   \n",
      "8   1030     59.8058           59.8046      -0.0021      0.1821   \n",
      "9   1040     61.6066           61.6049      -0.0027      0.1780   \n",
      "10  1050     63.3654           63.3633      -0.0032      0.1737   \n",
      "\n",
      "    Replicate %gamma  Gamma %diff  FFT %vega  Replicate %vega  Vega %diff  \n",
      "0             0.2016       0.0028    74.9945          74.9679     -0.0354  \n",
      "1             0.2007      -0.0436    76.2501          76.2212     -0.0379  \n",
      "2             0.1993      -0.0405    77.3079          77.2847     -0.0300  \n",
      "3             0.1975      -0.0244    78.1875          78.1563     -0.0399  \n",
      "4             0.1951      -0.0315    78.8766          78.8354     -0.0522  \n",
      "5             0.1924      -0.0471    79.3500          79.3229     -0.0341  \n",
      "6             0.1893      -0.0020    79.6521          79.6212     -0.0388  \n",
      "7             0.1858      -0.0367    79.7443          79.7336     -0.0134  \n",
      "8             0.1820      -0.0280    79.6526          79.6651      0.0157  \n",
      "9             0.1780      -0.0104    79.4439          79.4213     -0.0285  \n",
      "10            0.1737      -0.0214    79.0269          79.0090     -0.0227  \n"
     ]
    }
   ],
   "source": [
    "Delta_FFT = np.array([44.2794, 46.2918, 48.2928, 50.2776, 52.2414, 54.1800, 56.0893, 57.9657, 59.8058, 61.6066, 63.3654])\n",
    "Delta_diff = (Approx_delta - Delta_FFT) / Delta_FFT * 100\n",
    "Gamma_FFT = np.array([0.2016, 0.2008, 0.1994, 0.1975, 0.1952, 0.1925, 0.1893, 0.1859, 0.1821, 0.1780, 0.1737])\n",
    "Gamma_diff = (Approx_gamma - Gamma_FFT) / Gamma_FFT * 100\n",
    "Vega_FFT = np.array([74.9945, 76.2501, 77.3079, 78.1875, 78.8766, 79.3500, 79.6521, 79.7443, 79.6526, 79.4439, 79.0269])\n",
    "Vega_diff = (Approx_vega - Vega_FFT) / Vega_FFT * 100\n",
    "\n",
    "df = pd.DataFrame({\n",
    "    \"S\": S, \n",
    "    \"FFT %delta\": Delta_FFT, \n",
    "    \"Replicate %delta\": np.round(Approx_delta, 4), \n",
    "    \"Delta %diff\": np.round(Delta_diff, 4),\n",
    "    \"FFT %gamma\": Gamma_FFT,\n",
    "    \"Replicate %gamma\": np.round(Approx_gamma, 4), \n",
    "    \"Gamma %diff\": np.round(Gamma_diff, 4),\n",
    "    \"FFT %vega\": Vega_FFT,\n",
    "    \"Replicate %vega\": np.round(Approx_vega, 4),\n",
    "    \"Vega %diff\": np.round(Vega_diff, 4)\n",
    "    })\n",
    "print(df)\n",
    "df.to_csv(\"Table 3 Panel ABC1.csv\")"
   ]
  }
 ],
 "metadata": {
  "kernelspec": {
   "display_name": "base",
   "language": "python",
   "name": "python3"
  },
  "language_info": {
   "codemirror_mode": {
    "name": "ipython",
    "version": 3
   },
   "file_extension": ".py",
   "mimetype": "text/x-python",
   "name": "python",
   "nbconvert_exporter": "python",
   "pygments_lexer": "ipython3",
   "version": "3.7.0"
  },
  "orig_nbformat": 4
 },
 "nbformat": 4,
 "nbformat_minor": 2
}
